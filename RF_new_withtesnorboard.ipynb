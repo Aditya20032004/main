{
 "cells": [
  {
   "cell_type": "code",
   "execution_count": 8,
   "id": "d5d0043b-1b62-4aaf-b2ea-1c431c0a7e98",
   "metadata": {},
   "outputs": [
    {
     "name": "stdout",
     "output_type": "stream",
     "text": [
      "2.16.1\n"
     ]
    }
   ],
   "source": [
    "import tensorflow as tf\n",
    "print(tf.__version__)"
   ]
  },
  {
   "cell_type": "code",
   "execution_count": 9,
   "id": "46ca9fba-d438-4db2-8e7e-13a5fc103cb2",
   "metadata": {},
   "outputs": [
    {
     "name": "stdout",
     "output_type": "stream",
     "text": [
      "Requirement already satisfied: scikit-learn in /home/arsenal/miniconda3/envs/tf/lib/python3.12/site-packages (1.5.2)\n",
      "Collecting tensorboardX\n",
      "  Downloading tensorboardX-2.6.2.2-py2.py3-none-any.whl.metadata (5.8 kB)\n",
      "Requirement already satisfied: numpy>=1.19.5 in /home/arsenal/miniconda3/envs/tf/lib/python3.12/site-packages (from scikit-learn) (1.26.4)\n",
      "Requirement already satisfied: scipy>=1.6.0 in /home/arsenal/miniconda3/envs/tf/lib/python3.12/site-packages (from scikit-learn) (1.14.1)\n",
      "Requirement already satisfied: joblib>=1.2.0 in /home/arsenal/miniconda3/envs/tf/lib/python3.12/site-packages (from scikit-learn) (1.4.2)\n",
      "Requirement already satisfied: threadpoolctl>=3.1.0 in /home/arsenal/miniconda3/envs/tf/lib/python3.12/site-packages (from scikit-learn) (3.5.0)\n",
      "Requirement already satisfied: packaging in /home/arsenal/miniconda3/envs/tf/lib/python3.12/site-packages (from tensorboardX) (24.1)\n",
      "Requirement already satisfied: protobuf>=3.20 in /home/arsenal/miniconda3/envs/tf/lib/python3.12/site-packages (from tensorboardX) (4.25.5)\n",
      "Downloading tensorboardX-2.6.2.2-py2.py3-none-any.whl (101 kB)\n",
      "Installing collected packages: tensorboardX\n",
      "Successfully installed tensorboardX-2.6.2.2\n",
      "Note: you may need to restart the kernel to use updated packages.\n"
     ]
    }
   ],
   "source": [
    "pip install scikit-learn tensorboardX"
   ]
  },
  {
   "cell_type": "code",
   "execution_count": 11,
   "id": "319411bd-4aa3-45b0-b771-9e2741b5830e",
   "metadata": {},
   "outputs": [
    {
     "name": "stdout",
     "output_type": "stream",
     "text": [
      "Found 66792 images belonging to 4 classes.\n",
      "Found 16697 images belonging to 4 classes.\n"
     ]
    }
   ],
   "source": [
    "import os\n",
    "import numpy as np\n",
    "import pandas as pd\n",
    "from tensorflow.keras.preprocessing.image import ImageDataGenerator\n",
    "from tensorflow.keras.applications import VGG16\n",
    "from tensorflow.keras.models import Model\n",
    "from tensorflow.keras.layers import GlobalAveragePooling2D\n",
    "from sklearn.ensemble import RandomForestClassifier\n",
    "from sklearn.metrics import accuracy_score, classification_report\n",
    "from sklearn.model_selection import train_test_split\n",
    "import keras\n",
    "\n",
    "# Define paths to your dataset\n",
    "directory = r'/home/arsenal/ml/OCT2017/train'\n",
    "\n",
    "# Create an instance of ImageDataGenerator for data augmentation\n",
    "datagen = ImageDataGenerator(rescale=1./255, validation_split=0.2)  # 20% for validation\n",
    "\n",
    "# Load and preprocess the training and validation datasets\n",
    "train_generator = datagen.flow_from_directory(\n",
    "    directory,\n",
    "    target_size=(256, 256),\n",
    "    batch_size=32,\n",
    "    class_mode='categorical',  # Use 'categorical' for multi-class classification\n",
    "    subset='training',\n",
    "    shuffle=False\n",
    ")\n",
    "\n",
    "val_generator = datagen.flow_from_directory(\n",
    "    directory,\n",
    "    target_size=(256, 256),\n",
    "    batch_size=32,\n",
    "    class_mode='categorical',  # Use 'categorical' for multi-class classification\n",
    "    subset='validation',\n",
    "    shuffle=False\n",
    ")"
   ]
  },
  {
   "cell_type": "code",
   "execution_count": 10,
   "id": "5d3d0a0f-97be-4d38-8fc3-5283c61d81b0",
   "metadata": {},
   "outputs": [
    {
     "name": "stdout",
     "output_type": "stream",
     "text": [
      "Model accuracy: 0.5\n",
      "Model precision: 0.38961038961038963\n",
      "Model recall: 0.3614457831325301\n",
      "Model F1 score: 0.375\n"
     ]
    }
   ],
   "source": [
    "import numpy as np\n",
    "from sklearn.ensemble import RandomForestClassifier\n",
    "from sklearn.metrics import accuracy_score, precision_score, recall_score, f1_score\n",
    "from sklearn.model_selection import train_test_split\n",
    "from tensorboardX import SummaryWriter\n",
    "import datetime\n",
    "\n",
    "\n",
    "val_features, test_features, val_labels, test_labels = train_test_split(val_features, val_labels, test_size=0.5, random_state=42)\n",
    "\n",
    "# Generate some example data\n",
    "X, y = np.random.rand(1000, 20), np.random.randint(0, 2, 1000)\n",
    "X_train, X_test, y_train, y_test = train_test_split(X, y, test_size=0.2, random_state=42)\n",
    "\n",
    "# Define the Random Forest model\n",
    "model = RandomForestClassifier(n_estimators=100, random_state=42)\n",
    "\n",
    "# Create a TensorBoard writer\n",
    "log_dir = \"assets/logs/rf\"\n",
    "writer = SummaryWriter(log_dir)\n",
    "\n",
    "# Train the model and log metrics\n",
    "model.fit(X_train, y_train)\n",
    "y_pred = model.predict(X_test)\n",
    "\n",
    "# Calculate metrics\n",
    "accuracy = accuracy_score(y_test, y_pred)\n",
    "precision = precision_score(y_test, y_pred)\n",
    "recall = recall_score(y_test, y_pred)\n",
    "f1 = f1_score(y_test, y_pred)\n",
    "\n",
    "# Log the metrics to TensorBoard\n",
    "writer.add_scalar('Accuracy', accuracy, 0)\n",
    "writer.add_scalar('Precision', precision, 0)\n",
    "writer.add_scalar('Recall', recall, 0)\n",
    "writer.add_scalar('F1 Score', f1, 0)\n",
    "\n",
    "# Close the writer\n",
    "writer.close()\n",
    "\n",
    "print(f\"Model accuracy: {accuracy}\")\n",
    "print(f\"Model precision: {precision}\")\n",
    "print(f\"Model recall: {recall}\")\n",
    "print(f\"Model F1 score: {f1}\")"
   ]
  },
  {
   "cell_type": "code",
   "execution_count": null,
   "id": "9208a049-48c6-430a-9cc4-2d5f2e5027ea",
   "metadata": {},
   "outputs": [],
   "source": []
  }
 ],
 "metadata": {
  "kernelspec": {
   "display_name": "Python 3 (ipykernel)",
   "language": "python",
   "name": "python3"
  },
  "language_info": {
   "codemirror_mode": {
    "name": "ipython",
    "version": 3
   },
   "file_extension": ".py",
   "mimetype": "text/x-python",
   "name": "python",
   "nbconvert_exporter": "python",
   "pygments_lexer": "ipython3",
   "version": "3.12.7"
  }
 },
 "nbformat": 4,
 "nbformat_minor": 5
}
